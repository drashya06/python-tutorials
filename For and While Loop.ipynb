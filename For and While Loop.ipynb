{
 "cells": [
  {
   "cell_type": "markdown",
   "metadata": {},
   "source": [
    "![title](logo.png)"
   ]
  },
  {
   "cell_type": "markdown",
   "metadata": {},
   "source": [
    "# Today's Learning\n",
    "\n",
    "## While Loop "
   ]
  },
  {
   "cell_type": "markdown",
   "metadata": {},
   "source": [
    "**What is while loop?**\n",
    "\n",
    "The while loop in Python is used to iterate over a block of code as long as the test expression (condition) is true. We generally use this loop when we don't know the number of times to iterate beforehand."
   ]
  },
  {
   "cell_type": "code",
   "execution_count": 1,
   "metadata": {},
   "outputs": [
    {
     "name": "stdout",
     "output_type": "stream",
     "text": [
      "What is value of 14 x 2\n",
      "26\n",
      "Sorry! You are wrong try again..\n"
     ]
    }
   ],
   "source": [
    "print(\"What is value of 14 x 2\")\n",
    "\n",
    "val = int(input())\n",
    "\n",
    "if val == 28:\n",
    "    print(\"You are Good\")\n",
    "else:\n",
    "    print(\"Sorry! You are wrong try again..\")"
   ]
  },
  {
   "cell_type": "code",
   "execution_count": 2,
   "metadata": {},
   "outputs": [
    {
     "name": "stdout",
     "output_type": "stream",
     "text": [
      "What is value of 14 x 2\n",
      "29\n",
      "Sorry! You are wrong try again..\n",
      "26\n"
     ]
    }
   ],
   "source": [
    "print(\"What is value of 14 x 2\")\n",
    "\n",
    "val = int(input())\n",
    "\n",
    "if val == 28:\n",
    "    print(\"You are Good\")\n",
    "else:\n",
    "    print(\"Sorry! You are wrong try again..\")\n",
    "    val = int(input())\n",
    "    if val == 28:\n",
    "        print(\"You are Good\")\n",
    "    # How many times you can do this "
   ]
  },
  {
   "cell_type": "code",
   "execution_count": 3,
   "metadata": {},
   "outputs": [
    {
     "name": "stdout",
     "output_type": "stream",
     "text": [
      "What is value of 14 x 2\n",
      "12\n",
      "Wrong Pick, Try again\n",
      "15\n",
      "Wrong Pick, Try again\n",
      "18\n",
      "Wrong Pick, Try again\n",
      "26\n",
      "Wrong Pick, Try again\n",
      "29\n",
      "Wrong Pick, Try again\n",
      "28\n",
      "You are good\n"
     ]
    }
   ],
   "source": [
    "print(\"What is value of 14 x 2\")\n",
    "\n",
    "val = int(input())\n",
    "\n",
    "while (val != 28):\n",
    "    print(\"Wrong Pick, Try again\")\n",
    "    val = int(input())\n",
    "\n",
    "print(\"You are good\")"
   ]
  },
  {
   "cell_type": "markdown",
   "metadata": {},
   "source": [
    "This way we can use while loop to perform some task till we get the expression in while to be **True**\n"
   ]
  },
  {
   "cell_type": "markdown",
   "metadata": {},
   "source": [
    "## Some Problems for Practice\n",
    "\n",
    "1. Find the factorial of the number n\n",
    "2. Find the sum of first n numbers\n",
    "3. Find the pallindrome number i.e. number is equal to reverse of the that number For example 1221 is pallindrome and 125 is not equal to 521 so it's not pallindrome\n",
    "4. Find the answer to any question and loop must run till the correct answer is not found\n",
    "5. Print all numbers less than the input given by user.."
   ]
  },
  {
   "cell_type": "markdown",
   "metadata": {},
   "source": [
    "## Next\n",
    "\n",
    "## For-Loop"
   ]
  },
  {
   "cell_type": "markdown",
   "metadata": {},
   "source": [
    "**What is for-loop?**\n",
    "\n",
    "A for loop is used for iterating over a sequence (that is either a list, a tuple, a dictionary, a set, or a string). With the for loop we can execute a set of statements, once for each item in a list, tuple, set etc"
   ]
  },
  {
   "cell_type": "code",
   "execution_count": 4,
   "metadata": {},
   "outputs": [
    {
     "name": "stdout",
     "output_type": "stream",
     "text": [
      "Hello Everyone! Please Like,Subscribe and Comment\n"
     ]
    }
   ],
   "source": [
    "print(\"Hello Everyone! Please Like,Subscribe and Comment\")"
   ]
  },
  {
   "cell_type": "code",
   "execution_count": 5,
   "metadata": {},
   "outputs": [
    {
     "name": "stdout",
     "output_type": "stream",
     "text": [
      "Hello Everyone! Please Like,Subscribe and Comment\n",
      "Hello Everyone! Please Like,Subscribe and Comment\n",
      "Hello Everyone! Please Like,Subscribe and Comment\n",
      "Hello Everyone! Please Like,Subscribe and Comment\n",
      "Hello Everyone! Please Like,Subscribe and Comment\n"
     ]
    }
   ],
   "source": [
    "print(\"Hello Everyone! Please Like,Subscribe and Comment\")\n",
    "print(\"Hello Everyone! Please Like,Subscribe and Comment\")\n",
    "print(\"Hello Everyone! Please Like,Subscribe and Comment\")\n",
    "print(\"Hello Everyone! Please Like,Subscribe and Comment\")\n",
    "print(\"Hello Everyone! Please Like,Subscribe and Comment\")"
   ]
  },
  {
   "cell_type": "code",
   "execution_count": 6,
   "metadata": {},
   "outputs": [
    {
     "name": "stdout",
     "output_type": "stream",
     "text": [
      "Hello Everyone! Please Like,Subscribe and Comment\n",
      "Hello Everyone! Please Like,Subscribe and Comment\n",
      "Hello Everyone! Please Like,Subscribe and Comment\n",
      "Hello Everyone! Please Like,Subscribe and Comment\n",
      "Hello Everyone! Please Like,Subscribe and Comment\n",
      "Hello Everyone! Please Like,Subscribe and Comment\n",
      "Hello Everyone! Please Like,Subscribe and Comment\n",
      "Hello Everyone! Please Like,Subscribe and Comment\n",
      "Hello Everyone! Please Like,Subscribe and Comment\n",
      "Hello Everyone! Please Like,Subscribe and Comment\n"
     ]
    }
   ],
   "source": [
    "print(\"Hello Everyone! Please Like,Subscribe and Comment\")\n",
    "print(\"Hello Everyone! Please Like,Subscribe and Comment\")\n",
    "print(\"Hello Everyone! Please Like,Subscribe and Comment\")\n",
    "print(\"Hello Everyone! Please Like,Subscribe and Comment\")\n",
    "print(\"Hello Everyone! Please Like,Subscribe and Comment\")\n",
    "print(\"Hello Everyone! Please Like,Subscribe and Comment\")\n",
    "print(\"Hello Everyone! Please Like,Subscribe and Comment\")\n",
    "print(\"Hello Everyone! Please Like,Subscribe and Comment\")\n",
    "print(\"Hello Everyone! Please Like,Subscribe and Comment\")\n",
    "print(\"Hello Everyone! Please Like,Subscribe and Comment\")"
   ]
  },
  {
   "cell_type": "code",
   "execution_count": 7,
   "metadata": {},
   "outputs": [
    {
     "name": "stdout",
     "output_type": "stream",
     "text": [
      "Hello Everyone! Please Like,Subscribe and Comment\n",
      "Hello Everyone! Please Like,Subscribe and Comment\n",
      "Hello Everyone! Please Like,Subscribe and Comment\n",
      "Hello Everyone! Please Like,Subscribe and Comment\n",
      "Hello Everyone! Please Like,Subscribe and Comment\n",
      "Hello Everyone! Please Like,Subscribe and Comment\n",
      "Hello Everyone! Please Like,Subscribe and Comment\n",
      "Hello Everyone! Please Like,Subscribe and Comment\n",
      "Hello Everyone! Please Like,Subscribe and Comment\n",
      "Hello Everyone! Please Like,Subscribe and Comment\n"
     ]
    }
   ],
   "source": [
    "for i in range(10):\n",
    "    print(\"Hello Everyone! Please Like,Subscribe and Comment\")"
   ]
  },
  {
   "cell_type": "code",
   "execution_count": 10,
   "metadata": {},
   "outputs": [
    {
     "name": "stdout",
     "output_type": "stream",
     "text": [
      "\n",
      "*\n",
      "**\n",
      "***\n"
     ]
    }
   ],
   "source": [
    "for i in range(4):\n",
    "    for j in range(i):\n",
    "        print('*',end='')\n",
    "    print()"
   ]
  },
  {
   "cell_type": "markdown",
   "metadata": {},
   "source": [
    "## Some Problems in for loop\n",
    "\n",
    "1. Write a program to print the pattern:\n",
    "\n",
    "    1\n",
    "    \n",
    "    1 2\n",
    "    \n",
    "    1 2 3\n",
    "    \n",
    "    1 2 3 4\n",
    "    \n",
    "    1 2 3 4 5\n",
    "\n",
    "\n",
    "2. Write a Program to print the pattern:\n",
    "\n",
    "    1 2 3 4 5\n",
    "    \n",
    "    1 2 3 4\n",
    "    \n",
    "    1 2 3\n",
    "    \n",
    "    1 2\n",
    "    \n",
    "    1\n",
    "\n",
    "\n",
    "3. Write the table of 23\n",
    "\n",
    "        Format 23 * 1 = 23\n",
    "    \n",
    "               23 * 2 = 46 and so on..\n",
    "\n",
    "4. Write a program to print even numbers till 20\n",
    "\n",
    "\n",
    "5. Print the element in the list:\n",
    "\n",
    "    List = ['Like','Subscribe','Comment','Learn','Program','Python']"
   ]
  },
  {
   "cell_type": "markdown",
   "metadata": {},
   "source": [
    "# Major Difference B\\w while and for - loop ??\n",
    "\n",
    "When we know how many iteration it will require to compute the results then we can use for-loop \n",
    "\n",
    "And\n",
    "\n",
    "If we don't know about how many iterations it will require to compute the results we will be using while loop"
   ]
  },
  {
   "cell_type": "markdown",
   "metadata": {},
   "source": [
    "## What's  Next?\n",
    "\n",
    "We will be going through all the questions I have given for you to solve for practice."
   ]
  },
  {
   "cell_type": "code",
   "execution_count": null,
   "metadata": {},
   "outputs": [],
   "source": []
  }
 ],
 "metadata": {
  "kernelspec": {
   "display_name": "Python 3",
   "language": "python",
   "name": "python3"
  },
  "language_info": {
   "codemirror_mode": {
    "name": "ipython",
    "version": 3
   },
   "file_extension": ".py",
   "mimetype": "text/x-python",
   "name": "python",
   "nbconvert_exporter": "python",
   "pygments_lexer": "ipython3",
   "version": "3.8.5"
  }
 },
 "nbformat": 4,
 "nbformat_minor": 4
}
