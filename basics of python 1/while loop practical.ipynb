{
 "cells": [
  {
   "cell_type": "markdown",
   "metadata": {},
   "source": [
    "![](logo.png)"
   ]
  },
  {
   "cell_type": "markdown",
   "metadata": {},
   "source": [
    "# While loop Practical Solutions"
   ]
  },
  {
   "cell_type": "markdown",
   "metadata": {},
   "source": [
    "## 1. Find the factorial of the number n"
   ]
  },
  {
   "cell_type": "code",
   "execution_count": 12,
   "metadata": {},
   "outputs": [
    {
     "name": "stdout",
     "output_type": "stream",
     "text": [
      "5\n",
      "fact : 5    5\n",
      "fact : 20    4\n",
      "fact : 60    3\n",
      "fact : 120    2\n",
      "Factorial is  120\n"
     ]
    }
   ],
   "source": [
    "# Let's take n from the user\n",
    "# What is factorial 5 = 5*4*3*2 = 120\n",
    "# 1*anything = anything\n",
    "\n",
    "n = int(input())\n",
    "\n",
    "factorial = 1 # Why 1 and why not 0??\n",
    "\n",
    "while n > 1:\n",
    "    factorial = factorial * n\n",
    "    print('fact :',factorial,\"  \",n)\n",
    "    n-=1\n",
    "print(\"Factorial is \",factorial)"
   ]
  },
  {
   "cell_type": "code",
   "execution_count": 11,
   "metadata": {},
   "outputs": [
    {
     "data": {
      "text/plain": [
       "0"
      ]
     },
     "execution_count": 11,
     "metadata": {},
     "output_type": "execute_result"
    }
   ],
   "source": [
    "0*6"
   ]
  },
  {
   "cell_type": "markdown",
   "metadata": {},
   "source": [
    "## 2. Find the sum of first n numbers\n"
   ]
  },
  {
   "cell_type": "code",
   "execution_count": 13,
   "metadata": {},
   "outputs": [
    {
     "name": "stdout",
     "output_type": "stream",
     "text": [
      "10\n",
      "sum is  55\n"
     ]
    }
   ],
   "source": [
    "# Let's take n from the user\n",
    "\n",
    "n = int(input())\n",
    "sum_ = 0 # Why 0 and why not 1??\n",
    "while n > 0:\n",
    "    sum_ = sum_ + n\n",
    "    n-=1\n",
    "print(\"sum is \",sum_)"
   ]
  },
  {
   "cell_type": "code",
   "execution_count": 14,
   "metadata": {},
   "outputs": [
    {
     "data": {
      "text/plain": [
       "1"
      ]
     },
     "execution_count": 14,
     "metadata": {},
     "output_type": "execute_result"
    }
   ],
   "source": [
    "0+1"
   ]
  },
  {
   "cell_type": "markdown",
   "metadata": {},
   "source": [
    "## 3. Find the pallindrome number i.e. number is equal to reverse of the that number \n",
    "### For example 1221 is pallindrome and 125 is not equal to 521 so it's not pallindrome\n"
   ]
  },
  {
   "cell_type": "code",
   "execution_count": 16,
   "metadata": {},
   "outputs": [
    {
     "name": "stdout",
     "output_type": "stream",
     "text": [
      "125\n",
      "temp :  125\n",
      " Last Digit is  5\n",
      "Reverse num  5\n",
      "Left over  12\n",
      " Last Digit is  2\n",
      "Reverse num  52\n",
      "Left over  1\n",
      " Last Digit is  1\n",
      "Reverse num  521\n",
      "Left over  0\n",
      "Number is Not Pallindrome\n"
     ]
    }
   ],
   "source": [
    "num = int(input()) # user input\n",
    "digit = 0 # takes last digit from number\n",
    "reverse_num = 0 # reverse of actual value\n",
    "temp = num # temporary variabl stores num value\n",
    "print(\"temp : \",temp)\n",
    "while temp > 0:\n",
    "    digit = int(temp % 10)\n",
    "    print(\" Last Digit is \",digit)\n",
    "    reverse_num = reverse_num*10 + digit\n",
    "    print(\"Reverse num \",reverse_num)\n",
    "    temp = int(temp/10)\n",
    "    print(\"Left over \",temp)\n",
    "\n",
    "if reverse_num == num:\n",
    "    print(\"Number is Pallindrome\")\n",
    "else:\n",
    "    print(\"Number is Not Pallindrome\")\n",
    "\n",
    "    "
   ]
  },
  {
   "cell_type": "markdown",
   "metadata": {},
   "source": [
    "## 4. Find the answer to any question and loop must run till the correct answer is not found"
   ]
  },
  {
   "cell_type": "code",
   "execution_count": 17,
   "metadata": {},
   "outputs": [
    {
     "name": "stdout",
     "output_type": "stream",
     "text": [
      "Year in which India got Independence\n",
      "1947\n",
      "Correct! You make it\n"
     ]
    }
   ],
   "source": [
    "# Question\n",
    "print(\"Year in which India got Independence\")\n",
    "yr = int(input())\n",
    "while yr != 1947:\n",
    "    print(\"Wrong Answer! Try Again\")\n",
    "    yr = int(input())\n",
    "print(\"Correct! You make it\")"
   ]
  },
  {
   "cell_type": "markdown",
   "metadata": {},
   "source": [
    "## 5. Print all numbers less than the input given by user.."
   ]
  },
  {
   "cell_type": "code",
   "execution_count": 18,
   "metadata": {},
   "outputs": [
    {
     "name": "stdout",
     "output_type": "stream",
     "text": [
      "10\n",
      "10\n",
      "9\n",
      "8\n",
      "7\n",
      "6\n",
      "5\n",
      "4\n",
      "3\n",
      "2\n",
      "1\n"
     ]
    }
   ],
   "source": [
    "n = int(input())\n",
    "while n > 0:\n",
    "    print(n)\n",
    "    n-=1"
   ]
  },
  {
   "cell_type": "markdown",
   "metadata": {},
   "source": [
    "\n",
    "# What's Next ?\n",
    " \n",
    " For loop practicals"
   ]
  },
  {
   "cell_type": "code",
   "execution_count": null,
   "metadata": {},
   "outputs": [],
   "source": []
  }
 ],
 "metadata": {
  "kernelspec": {
   "display_name": "Python 3",
   "language": "python",
   "name": "python3"
  },
  "language_info": {
   "codemirror_mode": {
    "name": "ipython",
    "version": 3
   },
   "file_extension": ".py",
   "mimetype": "text/x-python",
   "name": "python",
   "nbconvert_exporter": "python",
   "pygments_lexer": "ipython3",
   "version": "3.8.5"
  }
 },
 "nbformat": 4,
 "nbformat_minor": 4
}
