{
 "cells": [
  {
   "cell_type": "markdown",
   "metadata": {},
   "source": [
    "![](logo.png)"
   ]
  },
  {
   "cell_type": "markdown",
   "metadata": {},
   "source": [
    "# Python Operators\n",
    "\n",
    "Operators are used to perform operations on variables and values."
   ]
  },
  {
   "cell_type": "markdown",
   "metadata": {},
   "source": [
    "# Arithmetic Operators\n",
    "\n",
    "Arithmetic operators are used with numeric values to perform common mathematical operations\n",
    "<table>\n",
    "<tbody>\n",
    "<tr>\n",
    "<th>Operator</th>\n",
    "<th>Meaning</th>\n",
    "<th>Example</th>\n",
    "</tr>\n",
    "<tr>\n",
    "<td>+</td>\n",
    "<td>Add two operands or unary plus</td>\n",
    "<td>x + y+ 2</td>\n",
    "</tr>\n",
    "<tr>\n",
    "<td>-</td>\n",
    "<td>Subtract right operand from the left or unary minus</td>\n",
    "<td>x - y- 2</td>\n",
    "</tr>\n",
    "<tr>\n",
    "<td>*</td>\n",
    "<td>Multiply two operands</td>\n",
    "<td>x * y</td>\n",
    "</tr>\n",
    "<tr>\n",
    "<td>/</td>\n",
    "<td>Divide left operand by the right one (always results into float)</td>\n",
    "<td>x / y</td>\n",
    "</tr>\n",
    "<tr>\n",
    "<td>%</td>\n",
    "<td>Modulus - remainder of the division of left operand by the right</td>\n",
    "<td>x % y (remainder of x/y)</td>\n",
    "</tr>\n",
    "<tr>\n",
    "<td>//</td>\n",
    "<td>Floor division - division that results into whole number adjusted to the left in the number line</td>\n",
    "<td>x // y</td>\n",
    "</tr>\n",
    "<tr>\n",
    "<td>**</td>\n",
    "<td>Exponent - left operand raised to the power of right</td>\n",
    "<td>x**y (x to the power y)</td>\n",
    "</tr>\n",
    "</tbody>\n",
    "</table> "
   ]
  },
  {
   "cell_type": "code",
   "execution_count": 29,
   "metadata": {},
   "outputs": [
    {
     "data": {
      "text/plain": [
       "1"
      ]
     },
     "execution_count": 29,
     "metadata": {},
     "output_type": "execute_result"
    }
   ],
   "source": [
    "15%2"
   ]
  },
  {
   "cell_type": "code",
   "execution_count": 30,
   "metadata": {},
   "outputs": [
    {
     "data": {
      "text/plain": [
       "7"
      ]
     },
     "execution_count": 30,
     "metadata": {},
     "output_type": "execute_result"
    }
   ],
   "source": [
    "15//2"
   ]
  },
  {
   "cell_type": "code",
   "execution_count": 32,
   "metadata": {},
   "outputs": [
    {
     "data": {
      "text/plain": [
       "32"
      ]
     },
     "execution_count": 32,
     "metadata": {},
     "output_type": "execute_result"
    }
   ],
   "source": [
    "2**5"
   ]
  },
  {
   "cell_type": "markdown",
   "metadata": {},
   "source": [
    "# Comparison Operators\n",
    "\n",
    "<table>\n",
    "<tbody>\n",
    "<tr>\n",
    "<th>Operator</th>\n",
    "<th>Meaning</th>\n",
    "<th>Example</th>\n",
    "</tr>\n",
    "<tr>\n",
    "<td>&gt;</td>\n",
    "<td>Greater than - True if left operand is greater than the right</td>\n",
    "<td>x &gt; y</td>\n",
    "</tr>\n",
    "<tr>\n",
    "<td>&lt;</td>\n",
    "<td>Less than - True if left operand is less than the right</td>\n",
    "<td>x &lt; y</td>\n",
    "</tr>\n",
    "<tr>\n",
    "<td>==</td>\n",
    "<td>Equal to - True if both operands are equal</td>\n",
    "<td>x == y</td>\n",
    "</tr>\n",
    "<tr>\n",
    "<td>!=</td>\n",
    "<td>Not equal to - True if operands are not equal</td>\n",
    "<td>x != y</td>\n",
    "</tr>\n",
    "<tr>\n",
    "<td>&gt;=</td>\n",
    "<td>Greater than or equal to - True if left operand is greater than or equal to the right</td>\n",
    "<td>x &gt;= y</td>\n",
    "</tr>\n",
    "<tr>\n",
    "<td>&lt;=</td>\n",
    "<td>Less than or equal to - True if left operand is less than or equal to the right</td>\n",
    "<td>x &lt;= y</td>\n",
    "</tr>\n",
    "</tbody>\n",
    "</table> "
   ]
  },
  {
   "cell_type": "markdown",
   "metadata": {},
   "source": [
    "These type of Operators are use to compare two values and if the condition is True it returns True otherwise False"
   ]
  },
  {
   "cell_type": "code",
   "execution_count": 33,
   "metadata": {},
   "outputs": [
    {
     "data": {
      "text/plain": [
       "True"
      ]
     },
     "execution_count": 33,
     "metadata": {},
     "output_type": "execute_result"
    }
   ],
   "source": [
    "10 != 5"
   ]
  },
  {
   "cell_type": "code",
   "execution_count": 34,
   "metadata": {},
   "outputs": [
    {
     "data": {
      "text/plain": [
       "False"
      ]
     },
     "execution_count": 34,
     "metadata": {},
     "output_type": "execute_result"
    }
   ],
   "source": [
    "10>11"
   ]
  },
  {
   "cell_type": "code",
   "execution_count": 35,
   "metadata": {},
   "outputs": [
    {
     "data": {
      "text/plain": [
       "True"
      ]
     },
     "execution_count": 35,
     "metadata": {},
     "output_type": "execute_result"
    }
   ],
   "source": [
    "2<5"
   ]
  },
  {
   "cell_type": "code",
   "execution_count": 36,
   "metadata": {},
   "outputs": [
    {
     "data": {
      "text/plain": [
       "True"
      ]
     },
     "execution_count": 36,
     "metadata": {},
     "output_type": "execute_result"
    }
   ],
   "source": [
    "1==1"
   ]
  },
  {
   "cell_type": "markdown",
   "metadata": {},
   "source": [
    "# Assignment Operators\n",
    "<table>\n",
    "<tbody>\n",
    "<tr>\n",
    "<th>Operator</th>\n",
    "<th>Example</th>\n",
    "<th>Equivalent to</th>\n",
    "</tr>\n",
    "<tr>\n",
    "<td>=</td>\n",
    "<td>x = 5</td>\n",
    "<td>x = 5</td>\n",
    "</tr>\n",
    "<tr>\n",
    "<td>+=</td>\n",
    "<td>x += 5</td>\n",
    "<td>x = x + 5</td>\n",
    "</tr>\n",
    "<tr>\n",
    "<td>-=</td>\n",
    "<td>x -= 5</td>\n",
    "<td>x = x - 5</td>\n",
    "</tr>\n",
    "<tr>\n",
    "<td>*=</td>\n",
    "<td>x *= 5</td>\n",
    "<td>x = x * 5</td>\n",
    "</tr>\n",
    "<tr>\n",
    "<td>/=</td>\n",
    "<td>x /= 5</td>\n",
    "<td>x = x / 5</td>\n",
    "</tr>\n",
    "<tr>\n",
    "<td>%=</td>\n",
    "<td>x %= 5</td>\n",
    "<td>x = x % 5</td>\n",
    "</tr>\n",
    "<tr>\n",
    "<td>//=</td>\n",
    "<td>x //= 5</td>\n",
    "<td>x = x // 5</td>\n",
    "</tr>\n",
    "<tr>\n",
    "<td>**=</td>\n",
    "<td>x **= 5</td>\n",
    "<td>x = x ** 5</td>\n",
    "</tr>\n",
    "<tr>\n",
    "<td>&amp;=</td>\n",
    "<td>x &amp;= 5</td>\n",
    "<td>x = x &amp; 5</td>\n",
    "</tr>\n",
    "<tr>\n",
    "<td>|=</td>\n",
    "<td>x |= 5</td>\n",
    "<td>x = x | 5</td>\n",
    "</tr>\n",
    "<tr>\n",
    "<td>^=</td>\n",
    "<td>x ^= 5</td>\n",
    "<td>x = x ^ 5</td>\n",
    "</tr>\n",
    "<tr>\n",
    "<td>&gt;&gt;=</td>\n",
    "<td>x &gt;&gt;= 5</td>\n",
    "<td>x = x &gt;&gt; 5</td>\n",
    "</tr>\n",
    "<tr>\n",
    "<td>&lt;&lt;=</td>\n",
    "<td>x &lt;&lt;= 5</td>\n",
    "<td>x = x &lt;&lt; 5</td>\n",
    "</tr>\n",
    "</tbody>\n",
    "</table> "
   ]
  },
  {
   "cell_type": "markdown",
   "metadata": {},
   "source": [
    "# Python Conditional Statements"
   ]
  },
  {
   "cell_type": "markdown",
   "metadata": {},
   "source": [
    "Python Conditional statements include **if-else statements** and There are 2 types of loop **for loop and while loop**\n",
    "\n",
    "If we want to compare any two things we can use if-else statement.Here we will be going through some examples.."
   ]
  },
  {
   "cell_type": "markdown",
   "metadata": {},
   "source": [
    "### In case if we want to take any value from the user we use *input()* function"
   ]
  },
  {
   "cell_type": "code",
   "execution_count": 37,
   "metadata": {},
   "outputs": [
    {
     "name": "stdout",
     "output_type": "stream",
     "text": [
      "12\n",
      "19\n"
     ]
    }
   ],
   "source": [
    "a = int(input())\n",
    "b = int(input())"
   ]
  },
  {
   "cell_type": "code",
   "execution_count": 38,
   "metadata": {},
   "outputs": [
    {
     "name": "stdout",
     "output_type": "stream",
     "text": [
      "12\n",
      "19\n"
     ]
    }
   ],
   "source": [
    "# what is value of a\n",
    "print(a)\n",
    "# what is value of b\n",
    "print(b)"
   ]
  },
  {
   "cell_type": "markdown",
   "metadata": {},
   "source": [
    "If we want to check for which is the greater value from the 2 taken from the user, What can we do?\n",
    "\n",
    "*Here we can use if-else loop to find the value*"
   ]
  },
  {
   "cell_type": "code",
   "execution_count": 39,
   "metadata": {},
   "outputs": [
    {
     "name": "stdout",
     "output_type": "stream",
     "text": [
      "b is greater than a\n"
     ]
    }
   ],
   "source": [
    "if a > b :\n",
    "    print(\"a is greater than b\")\n",
    "else:\n",
    "    print(\"b is greater than a\")"
   ]
  },
  {
   "cell_type": "markdown",
   "metadata": {},
   "source": [
    "### If we want to check more than one conditions than we an use if-elif statements"
   ]
  },
  {
   "cell_type": "code",
   "execution_count": 42,
   "metadata": {},
   "outputs": [
    {
     "name": "stdout",
     "output_type": "stream",
     "text": [
      "Enter value of a2\n",
      "Enter value of b2\n",
      "Both are equal\n"
     ]
    }
   ],
   "source": [
    "a = int(input(\"Enter value of a\"))\n",
    "b = int(input(\"Enter value of b\"))\n",
    "\n",
    "if a == b:\n",
    "    print(\"Both are equal\")\n",
    "elif a > b:\n",
    "    print(\"a is greater\")\n",
    "else:\n",
    "    print(\"b is greater\")"
   ]
  },
  {
   "cell_type": "markdown",
   "metadata": {},
   "source": [
    "# What's Next??\n",
    "\n",
    "We will be learning about For and while Loops"
   ]
  },
  {
   "cell_type": "code",
   "execution_count": null,
   "metadata": {},
   "outputs": [],
   "source": []
  }
 ],
 "metadata": {
  "kernelspec": {
   "display_name": "Python 3",
   "language": "python",
   "name": "python3"
  },
  "language_info": {
   "codemirror_mode": {
    "name": "ipython",
    "version": 3
   },
   "file_extension": ".py",
   "mimetype": "text/x-python",
   "name": "python",
   "nbconvert_exporter": "python",
   "pygments_lexer": "ipython3",
   "version": "3.8.5"
  }
 },
 "nbformat": 4,
 "nbformat_minor": 4
}
